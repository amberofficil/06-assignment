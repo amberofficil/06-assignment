{
  "cells": [
    {
      "cell_type": "markdown",
      "metadata": {
        "id": "view-in-github",
        "colab_type": "text"
      },
      "source": [
        "<a href=\"https://colab.research.google.com/github/amberofficil/06-assignment/blob/main/oop.ipynb\" target=\"_parent\"><img src=\"https://colab.research.google.com/assets/colab-badge.svg\" alt=\"Open In Colab\"/></a>"
      ]
    },
    {
      "cell_type": "markdown",
      "metadata": {
        "id": "pHBHkSO_luJT"
      },
      "source": [
        "1. Using self\n",
        "Assignment:\n",
        "Create a class Student with attributes name and marks. Use the self keyword to initialize these values via a constructor. Add a method display() that prints student details.\n",
        "\n"
      ]
    },
    {
      "cell_type": "code",
      "execution_count": null,
      "metadata": {
        "colab": {
          "base_uri": "https://localhost:8080/"
        },
        "id": "ZJ1i_z9OmEY6",
        "outputId": "7f928ecf-2d0c-489d-901e-ad4fd74c3434"
      },
      "outputs": [
        {
          "name": "stdout",
          "output_type": "stream",
          "text": [
            "Student Name: Ali\n",
            "Marks: 85\n"
          ]
        }
      ],
      "source": [
        "class Student:\n",
        "    def __init__(self, name, marks):\n",
        "        self.name = name         # self.name object ka attribute hai\n",
        "        self.marks = marks       # self.marks object ka attribute hai\n",
        "\n",
        "    def display(self):\n",
        "        print(f\"Student Name: {self.name}\")\n",
        "        print(f\"Marks: {self.marks}\")\n",
        "\n",
        "# Example usage:\n",
        "student1 = Student(\"Ali\", 85)\n",
        "student1.display()\n"
      ]
    },
    {
      "cell_type": "markdown",
      "metadata": {
        "id": "ySdUxPTMm6Il"
      },
      "source": [
        "2. Using cls\n",
        "Assignment:\n",
        "Create a class Counter that keeps track of how many objects have been created. Use a class variable and a class method with cls to manage and display the count."
      ]
    },
    {
      "cell_type": "code",
      "execution_count": null,
      "metadata": {
        "colab": {
          "base_uri": "https://localhost:8080/"
        },
        "id": "_2z9159pm9Mu",
        "outputId": "6727fd3a-26e5-4733-a54f-930d2ec04dc4"
      },
      "outputs": [
        {
          "name": "stdout",
          "output_type": "stream",
          "text": [
            "Total objects created: 3\n"
          ]
        }
      ],
      "source": [
        "class Counter:\n",
        "    count = 0  # class variable\n",
        "\n",
        "    def __init__(self):\n",
        "        Counter.count += 1  # object banne par count barhta hai\n",
        "\n",
        "    @classmethod\n",
        "    def show_count(cls):\n",
        "        print(f\"Total objects created: {cls.count}\")\n",
        "\n",
        "# teen object creat kiye\n",
        "c1 = Counter()\n",
        "c2 = Counter()\n",
        "c3 = Counter()\n",
        "\n",
        "Counter.show_count()\n"
      ]
    },
    {
      "cell_type": "markdown",
      "metadata": {
        "id": "hzNhiVxuoNt3"
      },
      "source": [
        "3. Public Variables and Methods\n",
        "Assignment:\n",
        "Create a class Car with a public variable brand and a public method start(). Instantiate the class and access both from outside the class.\n",
        "\n"
      ]
    },
    {
      "cell_type": "code",
      "execution_count": null,
      "metadata": {
        "colab": {
          "base_uri": "https://localhost:8080/"
        },
        "id": "ETPNk1dZoPSr",
        "outputId": "4f499194-92d5-4243-83fa-a541fe0bae85"
      },
      "outputs": [
        {
          "name": "stdout",
          "output_type": "stream",
          "text": [
            "Car brand: Toyota\n",
            "Toyota car is starting...\n"
          ]
        }
      ],
      "source": [
        "class Car:\n",
        "    def __init__(self, brand):\n",
        "        self.brand = brand  # Public variable\n",
        "\n",
        "    def start(self):\n",
        "        print(f\"{self.brand} car is starting...\")  # Public method\n",
        "\n",
        "# Object creation\n",
        "my_car = Car(\"Toyota\")\n",
        "\n",
        "# Accessing public variable and method from outside the class\n",
        "print(\"Car brand:\",my_car.brand)\n",
        "my_car.start()\n"
      ]
    },
    {
      "cell_type": "markdown",
      "metadata": {
        "id": "rbqdApaEqr9f"
      },
      "source": [
        "4. Class Variables and Class Methods\n",
        "Assignment:\n",
        "Create a class Bank with a class variable bank_name. Add a class method change_bank_name(cls, name) that allows changing the bank name. Show that it affects all instances.\n",
        "\n"
      ]
    },
    {
      "cell_type": "code",
      "execution_count": null,
      "metadata": {
        "colab": {
          "base_uri": "https://localhost:8080/"
        },
        "id": "amtvQoNUqtrF",
        "outputId": "aa383488-ad82-400d-a6f1-c95018ec2a07"
      },
      "outputs": [
        {
          "name": "stdout",
          "output_type": "stream",
          "text": [
            "Account Holder: Ayesha\n",
            "Bank Name: Default Bank\n",
            "Account Holder: Ali\n",
            "Bank Name: Default Bank\n",
            "Account Holder: Ayesha\n",
            "Bank Name: National Bank of Pakistan\n",
            "Account Holder: Ali\n",
            "Bank Name: National Bank of Pakistan\n"
          ]
        }
      ],
      "source": [
        "class Bank:\n",
        "    bank_name = \"Default Bank\"  # Class variable\n",
        "\n",
        "    def __init__(self, account_holder):\n",
        "        self.account_holder = account_holder\n",
        "\n",
        "    @classmethod\n",
        "    def change_bank_name(cls, name):\n",
        "        cls.bank_name = name  # Changing the class variable\n",
        "\n",
        "    def show_details(self):\n",
        "        print(f\"Account Holder: {self.account_holder}\")\n",
        "        print(f\"Bank Name: {Bank.bank_name}\")\n",
        "\n",
        "# Creating objects\n",
        "acc1 = Bank(\"Ayesha\")\n",
        "acc2 = Bank(\"Ali\")\n",
        "\n",
        "# Showing details before changing bank name\n",
        "acc1.show_details()\n",
        "acc2.show_details()\n",
        "\n",
        "# Changing bank name using class method\n",
        "Bank.change_bank_name(\"National Bank of Pakistan\")\n",
        "\n",
        "# Showing details again to see the change\n",
        "acc1.show_details()\n",
        "acc2.show_details()\n"
      ]
    },
    {
      "cell_type": "markdown",
      "metadata": {
        "id": "RK2xINdys0L1"
      },
      "source": [
        "5. Static Variables and Static Methods\n",
        "Assignment:\n",
        "Create a class MathUtils with a static method add(a, b) that returns the sum. No class or instance variables should be used."
      ]
    },
    {
      "cell_type": "code",
      "execution_count": null,
      "metadata": {
        "colab": {
          "base_uri": "https://localhost:8080/"
        },
        "id": "fmc6z4Lfs1pO",
        "outputId": "b075ccec-4907-42ea-a828-4a90a948e7b9"
      },
      "outputs": [
        {
          "name": "stdout",
          "output_type": "stream",
          "text": [
            "The sum is: 30\n"
          ]
        }
      ],
      "source": [
        "class MathUtils:\n",
        "    @staticmethod\n",
        "    def add(a, b):\n",
        "        return a + b\n",
        "\n",
        "# Using the static method without creating an object\n",
        "result = MathUtils.add(10, 20)\n",
        "print(\"The sum is:\", result)\n"
      ]
    },
    {
      "cell_type": "markdown",
      "metadata": {
        "id": "mO_mVACUtsc-"
      },
      "source": [
        "6. Constructors and Destructors\n",
        "Assignment:\n",
        "Create a class Logger that prints a message when an object is created (constructor) and another message when it is destroyed (destructor)."
      ]
    },
    {
      "cell_type": "code",
      "execution_count": null,
      "metadata": {
        "colab": {
          "base_uri": "https://localhost:8080/"
        },
        "id": "0TFppUDHtuew",
        "outputId": "dde403f6-46dd-47cb-ff05-73a772ddd78f"
      },
      "outputs": [
        {
          "name": "stdout",
          "output_type": "stream",
          "text": [
            "Logger Object has been created!\n",
            "Logger Object has been destroyed!\n"
          ]
        }
      ],
      "source": [
        "class Logger:\n",
        "    def __init__(self):\n",
        "        print(\"Logger Object has been created!\")\n",
        "\n",
        "    def __del__(self):\n",
        "        print(\"Logger Object has been destroyed!\")\n",
        "\n",
        "# Creating an object\n",
        "log1 = Logger()\n",
        "\n",
        "# deleting the object\n",
        "del log1\n",
        "\n"
      ]
    },
    {
      "cell_type": "markdown",
      "metadata": {
        "id": "7FcVmNsWvtm9"
      },
      "source": [
        "7. Access Modifiers: Public, Private, and Protected\n",
        "Assignment:\n",
        "Create a class Employee with:\n",
        "\n",
        "a public variable name,\n",
        "\n",
        "a protected variable _salary, and\n",
        "\n",
        "a private variable __ssn.\n",
        "\n",
        "Try accessing all three variables from an object of the class and document what happens."
      ]
    },
    {
      "cell_type": "code",
      "execution_count": null,
      "metadata": {
        "colab": {
          "base_uri": "https://localhost:8080/"
        },
        "id": "Wrn3iUAP1kgH",
        "outputId": "790ffae3-5327-49c2-d493-128f7f82ea95"
      },
      "outputs": [
        {
          "name": "stdout",
          "output_type": "stream",
          "text": [
            "Name: Asad\n",
            "Salary: 50000\n",
            "Error: 'Employee' object has no attribute '__ssn'\n",
            "SSN (via name mangling): 123-45-6789\n"
          ]
        }
      ],
      "source": [
        "class Employee:\n",
        "    # public variable\n",
        "    name = \"Asad\"\n",
        "\n",
        "    # protected variable\n",
        "    _salary = 50000\n",
        "\n",
        "    # private variable\n",
        "    __ssn = \"123-45-6789\"\n",
        "\n",
        "# creating an object of Employee class\n",
        "emp = Employee()\n",
        "\n",
        "# accessing public variable\n",
        "print(\"Name:\", emp.name)\n",
        "\n",
        "# accessing protected variable\n",
        "print(\"Salary:\", emp._salary)\n",
        "\n",
        "# accessing private variable (this will raise an error)\n",
        "try:\n",
        "    print(\"SSN:\", emp.__ssn)\n",
        "except AttributeError as e:\n",
        "    print(\"Error:\", e)\n",
        "\n",
        "# Accessing the private variable via name mangling\n",
        "print(\"SSN (via name mangling):\", emp._Employee__ssn)\n"
      ]
    },
    {
      "cell_type": "markdown",
      "metadata": {
        "id": "W5mORMUQ2N8O"
      },
      "source": [
        "8. The super() Function\n",
        "Assignment:\n",
        "Create a class Person with a constructor that sets the name. Inherit a class Teacher from it, add a subject field, and use super() to call the base class constructor.\n",
        "\n"
      ]
    },
    {
      "cell_type": "code",
      "execution_count": 31,
      "metadata": {
        "colab": {
          "base_uri": "https://localhost:8080/"
        },
        "id": "1QEHZrtD2QO_",
        "outputId": "b3f0a3a0-ac47-43e8-d21b-95f98c3857e2"
      },
      "outputs": [
        {
          "output_type": "stream",
          "name": "stdout",
          "text": [
            "Name: Mr. Imran\n",
            "Subject: Mathematics\n"
          ]
        }
      ],
      "source": [
        "# Base class person\n",
        "class Person:\n",
        "    def __init__(self, name):\n",
        "        self.name = name\n",
        "\n",
        "# Derived class Teacher\n",
        "class Teacher(Person):\n",
        "    def __init__(self, name, subject):\n",
        "\n",
        "        super().__init__(name)  # Call base class constructor using super()\n",
        "        self.subject = subject\n",
        "\n",
        "    def display(self):\n",
        "        print(f\"Name: {self.name}\")\n",
        "        print(f\"Subject: {self.subject}\")\n",
        "\n",
        "# Object creation\n",
        "teacher = Teacher(\"Mr. Imran\", \"Mathematics\")\n",
        "#teacher details display\n",
        "teacher.display()\n"
      ]
    },
    {
      "cell_type": "markdown",
      "metadata": {
        "id": "bUSVmpj15ASQ"
      },
      "source": [
        "9. Abstract Classes and Methods\n",
        "Assignment:\n",
        "Use the abc module to create an abstract class Shape with an abstract method area(). Inherit a class Rectangle that implements area()."
      ]
    },
    {
      "cell_type": "code",
      "execution_count": null,
      "metadata": {
        "colab": {
          "base_uri": "https://localhost:8080/"
        },
        "id": "Lpxy9YkD5Ck_",
        "outputId": "a2bc6078-d90e-422e-eb2a-3a5eec20c607"
      },
      "outputs": [
        {
          "name": "stdout",
          "output_type": "stream",
          "text": [
            "Area of Rectangle: 50\n"
          ]
        }
      ],
      "source": [
        "from abc import ABC, abstractmethod\n",
        "\n",
        "# Abstract class\n",
        "class Shape(ABC):\n",
        "    @abstractmethod\n",
        "    def area(self):\n",
        "        pass\n",
        "\n",
        "# Subclass (Rectangle) implementing the abstract method\n",
        "class Rectangle(Shape):\n",
        "    def __init__(self, length, width):\n",
        "        self.length = length\n",
        "        self.width = width\n",
        "\n",
        "    def area(self):\n",
        "        return self.length * self.width\n",
        "\n",
        "# Object creation\n",
        "rect = Rectangle(10, 5)\n",
        "print(\"Area of Rectangle:\", rect.area())\n"
      ]
    },
    {
      "cell_type": "markdown",
      "metadata": {
        "id": "KWFL99-I6w9A"
      },
      "source": [
        "10. Instance Methods\n",
        "Assignment:\n",
        "Create a class Dog with instance variables name and breed. Add an instance method bark() that prints a message including the dog's name."
      ]
    },
    {
      "cell_type": "code",
      "execution_count": null,
      "metadata": {
        "colab": {
          "base_uri": "https://localhost:8080/"
        },
        "id": "9v4VDTam6ypA",
        "outputId": "7f7a46e2-6038-455a-863a-bd56c080cc87"
      },
      "outputs": [
        {
          "name": "stdout",
          "output_type": "stream",
          "text": [
            "Buddy is barking!\n"
          ]
        }
      ],
      "source": [
        "class Dog:\n",
        "    def __init__(self, name, breed):\n",
        "        self.name = name  # Instance variable\n",
        "        self.breed = breed  # Instance variable\n",
        "\n",
        "    def bark(self):\n",
        "        print(f\"{self.name} is barking!\")\n",
        "\n",
        "# Object creation\n",
        "dog1 = Dog(\"Buddy\", \"Golden Retriever\")\n",
        "\n",
        "# Calling instance method\n",
        "dog1.bark()\n"
      ]
    },
    {
      "cell_type": "markdown",
      "metadata": {
        "id": "MKij9CFBQwB6"
      },
      "source": [
        "11. Class Methods\n",
        "Assignment:\n",
        "Create a class Book with a class variable total_books. Add a class method increment_book_count() to increase the count when a new book is added.\n",
        "\n"
      ]
    },
    {
      "cell_type": "code",
      "execution_count": null,
      "metadata": {
        "colab": {
          "base_uri": "https://localhost:8080/"
        },
        "id": "RD7KGi-uUz7x",
        "outputId": "727bed24-430e-4cb6-8ec4-4de8cc660058"
      },
      "outputs": [
        {
          "name": "stdout",
          "output_type": "stream",
          "text": [
            "Total books: 2\n"
          ]
        }
      ],
      "source": [
        "class Book:\n",
        "    # Class variable\n",
        "    total_books = 0\n",
        "\n",
        "    @classmethod\n",
        "    def increment_book_count(cls):\n",
        "        # Increment the total_books count when a new book is added\n",
        "        cls.total_books += 1\n",
        "\n",
        "    def __init__(self, title, author):\n",
        "        # instance variables\n",
        "        self.title = title\n",
        "        self.author = author\n",
        "        # call the class method to increment the book count when a new book is created\n",
        "        Book.increment_book_count()\n",
        "\n",
        "# creating new book objects\n",
        "book1 = Book(\"Python Basics\", \"John Doe\")\n",
        "book2 = Book(\"Advanced Python\", \"Jane Smith\")\n",
        "\n",
        "# Accessing the class variable\n",
        "print(f\"Total books: {Book.total_books}\")\n"
      ]
    },
    {
      "cell_type": "markdown",
      "metadata": {
        "id": "VBc62_i6WCba"
      },
      "source": [
        "12. Static Methods\n",
        "Assignment:\n",
        "Create a class TemperatureConverter with a static method celsius_to_fahrenheit(c) that returns the Fahrenheit value."
      ]
    },
    {
      "cell_type": "code",
      "execution_count": null,
      "metadata": {
        "colab": {
          "base_uri": "https://localhost:8080/"
        },
        "id": "65OReVgeWENt",
        "outputId": "9f3082b1-c3f2-467c-8ca3-6cb0e2f82d9e"
      },
      "outputs": [
        {
          "name": "stdout",
          "output_type": "stream",
          "text": [
            "25°C is equal to 77.0°F\n"
          ]
        }
      ],
      "source": [
        "class TemperatureConverter:\n",
        "    @staticmethod\n",
        "    def celsius_to_fahrenheit(c):\n",
        "      #Formula to convert Celsius to Fahrenheit\n",
        "        return (c * 9/5) + 32\n",
        "        #Calling the static method without creating an instance of the class\n",
        "\n",
        "celsius = 25\n",
        "fahrenheit = TemperatureConverter.celsius_to_fahrenheit(celsius)\n",
        "\n",
        "print(f\"{celsius}°C is equal to {fahrenheit}°F\")\n"
      ]
    },
    {
      "cell_type": "markdown",
      "metadata": {
        "id": "spCDB70xZN6j"
      },
      "source": [
        "13. Composition\n",
        "Assignment:\n",
        "Create a class Engine and a class Car. Use composition by passing an Engine object to the Car class during initialization. Access a method of the Engine class via the Car class."
      ]
    },
    {
      "cell_type": "code",
      "execution_count": null,
      "metadata": {
        "colab": {
          "base_uri": "https://localhost:8080/"
        },
        "id": "DjN62vRBfisU",
        "outputId": "1fda35a2-6ef4-4349-e004-17eef095d3c6"
      },
      "outputs": [
        {
          "name": "stdout",
          "output_type": "stream",
          "text": [
            "Ford car is starting. The V8 engine is starting...\n"
          ]
        }
      ],
      "source": [
        "# Engine class\n",
        "class Engine:\n",
        "    def __init__(self, engine_type):\n",
        "        self.engine_type = engine_type\n",
        "\n",
        "    def start(self):\n",
        "        return f\"The {self.engine_type} engine is starting...\"\n",
        "\n",
        "# Car class\n",
        "class Car:\n",
        "    def __init__(self, brand, engine):\n",
        "        self.brand = brand\n",
        "        # Composition: passing an Engine object to the car class\n",
        "        self.engine = engine\n",
        "\n",
        "    def start_car(self):\n",
        "        # Accessing the start method of the Engine class via the car class\n",
        "        return f\"{self.brand} car is starting. {self.engine.start()}\"\n",
        "\n",
        "\n",
        "# Creating an Engine object\n",
        "engine = Engine(\"V8\")\n",
        "\n",
        "# Creating a Car object\n",
        "car = Car(\"Ford\", engine)\n",
        "\n",
        "# Calling the start_car method\n",
        "print(car.start_car())\n"
      ]
    },
    {
      "cell_type": "markdown",
      "metadata": {
        "id": "QFgk889IgLue"
      },
      "source": [
        "14. Aggregation\n",
        "Assignment:\n",
        "Create a class Department and a class Employee. Use aggregation by having a Department object store a reference to an Employee object that exists independently of it."
      ]
    },
    {
      "cell_type": "code",
      "execution_count": null,
      "metadata": {
        "colab": {
          "base_uri": "https://localhost:8080/"
        },
        "id": "Vf54vadtgNKh",
        "outputId": "dabfa43e-215e-494b-8135-c86e4cbe543f"
      },
      "outputs": [
        {
          "name": "stdout",
          "output_type": "stream",
          "text": [
            "Department: IT Deparment, Employee Name: Ali,Position: Software Engineer\n"
          ]
        }
      ],
      "source": [
        "# Employee class\n",
        "class Employee:\n",
        "    def __init__(self, name, position):\n",
        "        self.name = name\n",
        "        self.position = position\n",
        "\n",
        "    def get_details(self):\n",
        "        return f\"Employee Name: {self.name},Position: {self.position}\"\n",
        "\n",
        "# Department class\n",
        "class Department:\n",
        "    def __init__(self, department_name, employee):\n",
        "        self.department_name = department_name\n",
        "        # Aggregation: storing a reference to an Employee object\n",
        "        self.employee = employee\n",
        "\n",
        "    def show_department_info(self):\n",
        "        return f\"Department: {self.department_name}, {self.employee.get_details()}\"\n",
        "\n",
        "# Employee object\n",
        "emp1 = Employee(\"Ali\",\"Software Engineer\")\n",
        "\n",
        "# Department object, jisme Employee ka reference pass kiya\n",
        "dept1 = Department(\"IT Deparment\",emp1)\n",
        "\n",
        "# Calling the method\n",
        "print(dept1.show_department_info())\n"
      ]
    },
    {
      "cell_type": "markdown",
      "metadata": {
        "id": "-nc1uiiyjf5q"
      },
      "source": [
        "15. Method Resolution Order (MRO) and Diamond Inheritance\n",
        "Assignment:\n",
        "Create four classes:\n",
        "\n",
        "A with a method show(),\n",
        "\n",
        "B and C that inherit from A and override show(),\n",
        "\n",
        "D that inherits from both B and C.\n",
        "\n",
        "Create an object of D and call show() to observe MRO."
      ]
    },
    {
      "cell_type": "code",
      "execution_count": null,
      "metadata": {
        "colab": {
          "base_uri": "https://localhost:8080/"
        },
        "id": "Cx3U86Znjhvj",
        "outputId": "b7dfdc4f-b725-4b88-a933-6e9b5b1d68df"
      },
      "outputs": [
        {
          "name": "stdout",
          "output_type": "stream",
          "text": [
            "Show method from class B\n",
            "[<class '__main__.D'>, <class '__main__.B'>, <class '__main__.C'>, <class '__main__.A'>, <class 'object'>]\n"
          ]
        }
      ],
      "source": [
        "# Base class A\n",
        "class A:\n",
        "    def show(self):\n",
        "        return \"Show method from class A\"\n",
        "\n",
        "# Class B inherits from A\n",
        "class B(A):\n",
        "    def show(self):\n",
        "        return \"Show method from class B\"\n",
        "\n",
        "# Class C inherits from A\n",
        "class C(A):\n",
        "    def show(self):\n",
        "        return \"Show method from class C\"\n",
        "\n",
        "# Class D inherits from B and C\n",
        "class D(B, C):\n",
        "    pass\n",
        "\n",
        "# Create object of D\n",
        "d = D()\n",
        "\n",
        "# Call show() method\n",
        "print(d.show())\n",
        "\n",
        "# Print MRO\n",
        "print(D.mro())\n"
      ]
    },
    {
      "cell_type": "markdown",
      "metadata": {
        "id": "cjLQMgfzpVrB"
      },
      "source": [
        "16. Function Decorators\n",
        "Assignment:\n",
        "Write a decorator function log_function_call that prints \"Function is being called\" before a function executes. Apply it to a function say_hello()."
      ]
    },
    {
      "cell_type": "code",
      "execution_count": null,
      "metadata": {
        "colab": {
          "base_uri": "https://localhost:8080/"
        },
        "id": "S1KdFzQjpXhG",
        "outputId": "ad0b17ce-a690-4e22-a061-8b2cc35a3546"
      },
      "outputs": [
        {
          "name": "stdout",
          "output_type": "stream",
          "text": [
            "Function is being called\n",
            "Hello world!\n"
          ]
        }
      ],
      "source": [
        "# Decorator function\n",
        "def log_function_call(func):\n",
        "    def wrapper():\n",
        "        print(\"Function is being called\")\n",
        "        return func() # call the orignal function\n",
        "    return wrapper\n",
        "\n",
        "# function to be decorator\n",
        "@log_function_call\n",
        "def say_hello():\n",
        "    print(\"Hello\", \"world!\")\n",
        "\n",
        "# Calling the function\n",
        "say_hello()\n"
      ]
    },
    {
      "cell_type": "markdown",
      "metadata": {
        "id": "Ex6-BI-xqRip"
      },
      "source": [
        "17. Class Decorators\n",
        "Assignment:\n",
        "Create a class decorator add_greeting that modifies a class to add a greet() method returning \"Hello from Decorator!\". Apply it to a class Person."
      ]
    },
    {
      "cell_type": "code",
      "execution_count": null,
      "metadata": {
        "colab": {
          "base_uri": "https://localhost:8080/"
        },
        "id": "IB_bqDI8qTA7",
        "outputId": "877ed326-acf2-4e11-deff-b5e6fc704068"
      },
      "outputs": [
        {
          "name": "stdout",
          "output_type": "stream",
          "text": [
            "Hello from Decorator!\n"
          ]
        }
      ],
      "source": [
        "# Class decorator\n",
        "def add_greeting(cls):\n",
        "    # New method greet() ko class mein add kar rahe hain\n",
        "    def greet(self):\n",
        "        return \"Hello from Decorator!\"\n",
        "        #Add the greet method to the class\n",
        "    cls.greet = greet\n",
        "    return cls\n",
        "\n",
        "# Applying the decorator to Person class\n",
        "@add_greeting\n",
        "class Person:\n",
        "    def __init__(self, name):\n",
        "        self.name = name\n",
        "        def introduce(self):\n",
        "            return f\"Hi, I'm {self.name}.\"\n",
        "\n",
        "# Create an object of Person\n",
        "p = Person(\"Ali\")\n",
        "\n",
        "# Call the greet method added by the decorator\n",
        "print(p.greet())\n"
      ]
    },
    {
      "cell_type": "markdown",
      "metadata": {
        "id": "4zaOmXfSryMu"
      },
      "source": [
        "18. Property Decorators: @property, @setter, and @deleter\n",
        "Assignment:\n",
        "Create a class Product with a private attribute _price. Use @property to get the price, @price.setter to update it, and @price.deleter to delete it."
      ]
    },
    {
      "cell_type": "code",
      "execution_count": null,
      "metadata": {
        "colab": {
          "base_uri": "https://localhost:8080/"
        },
        "id": "qApVNRh2rztu",
        "outputId": "1a755d2f-46fd-417e-de73-21df1bb38c3b"
      },
      "outputs": [
        {
          "name": "stdout",
          "output_type": "stream",
          "text": [
            "1000\n",
            "1200\n",
            "Price cannot be negative!\n",
            "Deleting the price of Laptop\n"
          ]
        }
      ],
      "source": [
        "class Product:\n",
        "    def __init__(self, name, price):\n",
        "      self.name = name\n",
        "      self._price = price  # private attribute\n",
        "\n",
        "    # Getter for the price attribute\n",
        "    @property\n",
        "    def price(self):\n",
        "        return self._price\n",
        "\n",
        "    # Setter to update the price attribute\n",
        "    @price.setter\n",
        "    def price(self, value):\n",
        "        if value < 0:\n",
        "            print(\"Price cannot be negative!\")\n",
        "        else:\n",
        "            self._price = value\n",
        "\n",
        "    # Deleter to delete the price attribute\n",
        "    @price.deleter\n",
        "    def price(self):\n",
        "        print(f\"Deleting the price of {self.name}\")\n",
        "        del self._price\n",
        "\n",
        "# Create Product object\n",
        "product = Product(\"Laptop\",1000)\n",
        "\n",
        "# Access price using @property\n",
        "print(product.price) #output 1000\n",
        "\n",
        "# Update price using @price.setter\n",
        "product.price = 1200\n",
        "print(product.price)\n",
        "\n",
        "# Try setting negative price\n",
        "\n",
        "product.price = -500 # output:price cannot be negative\n",
        "\n",
        "# Delete price using deleter\n",
        "del product.price # deleting the price of laptop\n"
      ]
    },
    {
      "cell_type": "markdown",
      "metadata": {
        "id": "JRYKc3W0whzP"
      },
      "source": [
        "19. callable() and __call__()\n",
        "Assignment:\n",
        "Create a class Multiplier with an __init__() to set a factor. Define a __call__() method that multiplies an input by the factor. Test it with callable() and by calling the object like a function.\n",
        "\n"
      ]
    },
    {
      "cell_type": "code",
      "execution_count": null,
      "metadata": {
        "colab": {
          "base_uri": "https://localhost:8080/"
        },
        "id": "yT70_9rzwjav",
        "outputId": "973a68b6-4b6d-4830-ae4c-c54db353e2e5"
      },
      "outputs": [
        {
          "name": "stdout",
          "output_type": "stream",
          "text": [
            "True\n",
            "Result: 50\n"
          ]
        }
      ],
      "source": [
        "class Multiplier:\n",
        "    def __init__(self, factor):\n",
        "        self.factor = factor  # setting the factor\n",
        "\n",
        "    def __call__(self, number):\n",
        "        return number * self.factor  # this method allows the object to be called like function\n",
        "\n",
        "# create Multiplier object\n",
        "multiplier= Multiplier(5)\n",
        "\n",
        "# Test the object is callable\n",
        "print(callable(multiplier))  # True\n",
        "\n",
        "# Calling the object like a function\n",
        "result = multiplier(10)  # 10 * 5 = 50\n",
        "\n",
        "print(\"Result:\", result)\n"
      ]
    },
    {
      "cell_type": "markdown",
      "metadata": {
        "id": "UqShCjRlzL9K"
      },
      "source": [
        "20. Creating a Custom Exception\n",
        "Assignment:\n",
        "Create a custom exception InvalidAgeError. Write a function check_age(age) that raises this exception if age < 18. Handle it with try...except."
      ]
    },
    {
      "cell_type": "code",
      "execution_count": null,
      "metadata": {
        "colab": {
          "base_uri": "https://localhost:8080/"
        },
        "id": "MrNLhLcezNWS",
        "outputId": "1625e550-aa4e-4ed7-f3f3-a193fd66b58b"
      },
      "outputs": [
        {
          "name": "stdout",
          "output_type": "stream",
          "text": [
            "Enter your age: 28\n",
            "Age 28 is valid!\n"
          ]
        }
      ],
      "source": [
        "# Custom exception class\n",
        "class InvalidAgeError(Exception):\n",
        "  def __init__(self, message=\"Age must be 18 or older\"):\n",
        "    super().__init__(message)\n",
        "\n",
        "# Function to check age\n",
        "def check_age(age):\n",
        "    if age < 18:\n",
        "        raise InvalidAgeError(f\"Invalid age: {age}. You must be 18 or older.\")\n",
        "    else:\n",
        "        print(f\"Age {age} is valid!\")\n",
        "# Handling the exception using try...except\n",
        "try:\n",
        "    age = int(input(\"Enter your age: \"))\n",
        "    check_age(age)\n",
        "except InvalidAgeError as e:\n",
        "    print(f\"Error:\", {e})\n",
        "except ValueError:\n",
        "    print(\"Please enter a valid number!\")\n"
      ]
    },
    {
      "cell_type": "markdown",
      "metadata": {
        "id": "o2qrkEQO277z"
      },
      "source": [
        "21. Make a Custom Class Iterable\n",
        "Assignment:\n",
        "Create a class Countdown that takes a start number. Implement __iter__() and __next__() to make the object iterable in a for-loop, counting down to 0."
      ]
    },
    {
      "cell_type": "code",
      "source": [
        "class Countdown:\n",
        "    def __init__(self, start):\n",
        "        self.start = start  # Starting number set\n",
        "        self.current = start  # Current number initialize\n",
        "\n",
        "    def __iter__(self):\n",
        "        self.current = self.start\n",
        "        return self\n",
        "\n",
        "    def __next__(self):\n",
        "        # Agar current number 0 se kam ho, to iteration stop hojaegi\n",
        "        if self.current < 0:\n",
        "            raise StopIteration\n",
        "        self.current -= 1\n",
        "        return self.current + 1\n",
        "\n",
        "countdown = Countdown(5)\n",
        "\n",
        "# Countdown object in for loop\n",
        "for number in countdown:\n",
        "    print(number)\n"
      ],
      "metadata": {
        "colab": {
          "base_uri": "https://localhost:8080/"
        },
        "id": "vI33xk3F_EOb",
        "outputId": "3b7108e0-3985-4762-8be5-3931c9b92241"
      },
      "execution_count": 30,
      "outputs": [
        {
          "output_type": "stream",
          "name": "stdout",
          "text": [
            "5\n",
            "4\n",
            "3\n",
            "2\n",
            "1\n",
            "0\n"
          ]
        }
      ]
    }
  ],
  "metadata": {
    "colab": {
      "provenance": [],
      "authorship_tag": "ABX9TyPwJ5IvC0bAdvlrZLifvBS8",
      "include_colab_link": true
    },
    "kernelspec": {
      "display_name": "Python 3",
      "name": "python3"
    },
    "language_info": {
      "name": "python"
    }
  },
  "nbformat": 4,
  "nbformat_minor": 0
}